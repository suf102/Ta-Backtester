{
 "cells": [
  {
   "cell_type": "markdown",
   "metadata": {},
   "source": [
    "# Creating a sentiment analysis model.\n",
    "I am using a dataset of 1.6 million tweets found on Kaggle for the training dataset, its not strictly a data set that is made for stock sentiment analysis. There are some dataset that are restricted to stocks, I hypothesise that the same analysis will be applicable. I will test this by using these restricted datasets for validation. The dataset will not be in the repository as it is too large but I have included a link to it below. I have also drawn on on a medium tutorial on sentiment analysis in pytorch.\n",
    "\n",
    "The dataset: https://www.kaggle.com/datasets/kazanova/sentiment140?resource=download\n",
    "\n",
    "Medium Tutorial: https://bhadreshpsavani.medium.com/tutorial-on-sentimental-analysis-using-pytorch-b1431306a2d7"
   ]
  },
  {
   "cell_type": "code",
   "execution_count": 1,
   "metadata": {},
   "outputs": [],
   "source": [
    "### import libraries\n",
    "import torch\n",
    "import torch.nn as nn\n",
    "import numpy as np\n",
    "import pandas as pd\n",
    "import multiprocessing as mp\n",
    "from multiprocessing import Pool\n",
    "import json\n",
    "import csv\n",
    "from string import punctuation\n",
    "from collections import Counter\n",
    " \n",
    "# for printing out status reports\n",
    "import sys\n",
    "\n",
    "# for data visualization\n",
    "import matplotlib.pyplot as plt\n"
   ]
  },
  {
   "cell_type": "code",
   "execution_count": 2,
   "metadata": {},
   "outputs": [
    {
     "name": "stdout",
     "output_type": "stream",
     "text": [
      "gpu\n"
     ]
    }
   ],
   "source": [
    "# use GPU prioitising apple silicon then nvidia cuda and lastly cpu. \n",
    "has_gpu = torch.cuda.is_available()\n",
    "has_mps = getattr(torch,'has_mps',False)\n",
    "device = \"mps\" if getattr(torch,'has_mps',False) \\\n",
    "    else \"gpu\" if torch.cuda.is_available() else \"cpu\"\n",
    "\n",
    "print(device)"
   ]
  },
  {
   "cell_type": "code",
   "execution_count": 3,
   "metadata": {},
   "outputs": [
    {
     "data": {
      "text/html": [
       "<div>\n",
       "<style scoped>\n",
       "    .dataframe tbody tr th:only-of-type {\n",
       "        vertical-align: middle;\n",
       "    }\n",
       "\n",
       "    .dataframe tbody tr th {\n",
       "        vertical-align: top;\n",
       "    }\n",
       "\n",
       "    .dataframe thead th {\n",
       "        text-align: right;\n",
       "    }\n",
       "</style>\n",
       "<table border=\"1\" class=\"dataframe\">\n",
       "  <thead>\n",
       "    <tr style=\"text-align: right;\">\n",
       "      <th></th>\n",
       "      <th>Sentiment</th>\n",
       "      <th>Tweet_text</th>\n",
       "    </tr>\n",
       "  </thead>\n",
       "  <tbody>\n",
       "    <tr>\n",
       "      <th>0</th>\n",
       "      <td>0</td>\n",
       "      <td>@switchfoot http://twitpic.com/2y1zl - Awww, t...</td>\n",
       "    </tr>\n",
       "    <tr>\n",
       "      <th>1</th>\n",
       "      <td>0</td>\n",
       "      <td>is upset that he can't update his Facebook by ...</td>\n",
       "    </tr>\n",
       "    <tr>\n",
       "      <th>2</th>\n",
       "      <td>0</td>\n",
       "      <td>@Kenichan I dived many times for the ball. Man...</td>\n",
       "    </tr>\n",
       "    <tr>\n",
       "      <th>3</th>\n",
       "      <td>0</td>\n",
       "      <td>my whole body feels itchy and like its on fire</td>\n",
       "    </tr>\n",
       "    <tr>\n",
       "      <th>4</th>\n",
       "      <td>0</td>\n",
       "      <td>@nationwideclass no, it's not behaving at all....</td>\n",
       "    </tr>\n",
       "  </tbody>\n",
       "</table>\n",
       "</div>"
      ],
      "text/plain": [
       "   Sentiment                                         Tweet_text\n",
       "0          0  @switchfoot http://twitpic.com/2y1zl - Awww, t...\n",
       "1          0  is upset that he can't update his Facebook by ...\n",
       "2          0  @Kenichan I dived many times for the ball. Man...\n",
       "3          0    my whole body feels itchy and like its on fire \n",
       "4          0  @nationwideclass no, it's not behaving at all...."
      ]
     },
     "metadata": {},
     "output_type": "display_data"
    }
   ],
   "source": [
    "#Pull the data from the csv file, \n",
    "\n",
    "df = pd.read_csv('../Sentiment_Analysis_Strategy/training.1600000.processed.noemoticon.csv', header= None,encoding='latin-1' )\n",
    "\n",
    "# We dont need most of hte columns such as tweet author or the date and time. \n",
    "\n",
    "df.drop([1,2,3,4], inplace=True, axis=1)\n",
    "\n",
    "df.columns =['Sentiment','Tweet_text']\n",
    "\n",
    "display(df.head())"
   ]
  },
  {
   "cell_type": "code",
   "execution_count": 4,
   "metadata": {},
   "outputs": [],
   "source": [
    "# This function will be used in the next cell to remove all of the special characters in th tweets\n",
    "\n",
    "def removespecial(tweet):\n",
    "    \n",
    "    #calling alpha because it is returning just the alphabet. \n",
    "    \n",
    "    alpha = \"\"\n",
    "    \n",
    "    for ch in tweet:\n",
    "        if ch not in punctuation:\n",
    "            alpha = alpha + ch\n",
    "            \n",
    "    return alpha"
   ]
  },
  {
   "cell_type": "code",
   "execution_count": 5,
   "metadata": {},
   "outputs": [],
   "source": [
    "# Next we need to remove the special characters from the tweets and we need to fix the words to remove caps etc. we could do this by looping through but it will just take far too long\n",
    "\n",
    "df['Tweet_text'] = df['Tweet_text'].apply(lambda x: x.lower())\n",
    "df['Tweet_text'] = df['Tweet_text'].apply(lambda x: removespecial(x))"
   ]
  },
  {
   "cell_type": "code",
   "execution_count": 6,
   "metadata": {},
   "outputs": [
    {
     "data": {
      "text/html": [
       "<div>\n",
       "<style scoped>\n",
       "    .dataframe tbody tr th:only-of-type {\n",
       "        vertical-align: middle;\n",
       "    }\n",
       "\n",
       "    .dataframe tbody tr th {\n",
       "        vertical-align: top;\n",
       "    }\n",
       "\n",
       "    .dataframe thead th {\n",
       "        text-align: right;\n",
       "    }\n",
       "</style>\n",
       "<table border=\"1\" class=\"dataframe\">\n",
       "  <thead>\n",
       "    <tr style=\"text-align: right;\">\n",
       "      <th></th>\n",
       "      <th>Sentiment</th>\n",
       "      <th>Tweet_text</th>\n",
       "    </tr>\n",
       "  </thead>\n",
       "  <tbody>\n",
       "    <tr>\n",
       "      <th>0</th>\n",
       "      <td>0</td>\n",
       "      <td>switchfoot httptwitpiccom2y1zl  awww thats a b...</td>\n",
       "    </tr>\n",
       "    <tr>\n",
       "      <th>1</th>\n",
       "      <td>0</td>\n",
       "      <td>is upset that he cant update his facebook by t...</td>\n",
       "    </tr>\n",
       "    <tr>\n",
       "      <th>2</th>\n",
       "      <td>0</td>\n",
       "      <td>kenichan i dived many times for the ball manag...</td>\n",
       "    </tr>\n",
       "    <tr>\n",
       "      <th>3</th>\n",
       "      <td>0</td>\n",
       "      <td>my whole body feels itchy and like its on fire</td>\n",
       "    </tr>\n",
       "    <tr>\n",
       "      <th>4</th>\n",
       "      <td>0</td>\n",
       "      <td>nationwideclass no its not behaving at all im ...</td>\n",
       "    </tr>\n",
       "  </tbody>\n",
       "</table>\n",
       "</div>"
      ],
      "text/plain": [
       "   Sentiment                                         Tweet_text\n",
       "0          0  switchfoot httptwitpiccom2y1zl  awww thats a b...\n",
       "1          0  is upset that he cant update his facebook by t...\n",
       "2          0  kenichan i dived many times for the ball manag...\n",
       "3          0    my whole body feels itchy and like its on fire \n",
       "4          0  nationwideclass no its not behaving at all im ..."
      ]
     },
     "metadata": {},
     "output_type": "display_data"
    }
   ],
   "source": [
    "# Check that we have the tweets in a format we are looking for. \n",
    "\n",
    "display(df.head())"
   ]
  },
  {
   "cell_type": "code",
   "execution_count": 7,
   "metadata": {},
   "outputs": [
    {
     "data": {
      "text/html": [
       "<div>\n",
       "<style scoped>\n",
       "    .dataframe tbody tr th:only-of-type {\n",
       "        vertical-align: middle;\n",
       "    }\n",
       "\n",
       "    .dataframe tbody tr th {\n",
       "        vertical-align: top;\n",
       "    }\n",
       "\n",
       "    .dataframe thead th {\n",
       "        text-align: right;\n",
       "    }\n",
       "</style>\n",
       "<table border=\"1\" class=\"dataframe\">\n",
       "  <thead>\n",
       "    <tr style=\"text-align: right;\">\n",
       "      <th></th>\n",
       "      <th>Sentiment</th>\n",
       "      <th>Tweet_text</th>\n",
       "      <th>Tweet_words</th>\n",
       "      <th>Tweets_counted</th>\n",
       "    </tr>\n",
       "  </thead>\n",
       "  <tbody>\n",
       "    <tr>\n",
       "      <th>0</th>\n",
       "      <td>0</td>\n",
       "      <td>switchfoot httptwitpiccom2y1zl  awww thats a b...</td>\n",
       "      <td>[switchfoot, httptwitpiccom2y1zl, awww, thats,...</td>\n",
       "      <td>{'switchfoot': 1, 'httptwitpiccom2y1zl': 1, 'a...</td>\n",
       "    </tr>\n",
       "    <tr>\n",
       "      <th>1</th>\n",
       "      <td>0</td>\n",
       "      <td>is upset that he cant update his facebook by t...</td>\n",
       "      <td>[is, upset, that, he, cant, update, his, faceb...</td>\n",
       "      <td>{'is': 1, 'upset': 1, 'that': 1, 'he': 1, 'can...</td>\n",
       "    </tr>\n",
       "    <tr>\n",
       "      <th>2</th>\n",
       "      <td>0</td>\n",
       "      <td>kenichan i dived many times for the ball manag...</td>\n",
       "      <td>[kenichan, i, dived, many, times, for, the, ba...</td>\n",
       "      <td>{'kenichan': 1, 'i': 1, 'dived': 1, 'many': 1,...</td>\n",
       "    </tr>\n",
       "    <tr>\n",
       "      <th>3</th>\n",
       "      <td>0</td>\n",
       "      <td>my whole body feels itchy and like its on fire</td>\n",
       "      <td>[my, whole, body, feels, itchy, and, like, its...</td>\n",
       "      <td>{'my': 1, 'whole': 1, 'body': 1, 'feels': 1, '...</td>\n",
       "    </tr>\n",
       "    <tr>\n",
       "      <th>4</th>\n",
       "      <td>0</td>\n",
       "      <td>nationwideclass no its not behaving at all im ...</td>\n",
       "      <td>[nationwideclass, no, its, not, behaving, at, ...</td>\n",
       "      <td>{'nationwideclass': 1, 'no': 1, 'its': 1, 'not...</td>\n",
       "    </tr>\n",
       "    <tr>\n",
       "      <th>...</th>\n",
       "      <td>...</td>\n",
       "      <td>...</td>\n",
       "      <td>...</td>\n",
       "      <td>...</td>\n",
       "    </tr>\n",
       "    <tr>\n",
       "      <th>1599995</th>\n",
       "      <td>4</td>\n",
       "      <td>just woke up having no school is the best feel...</td>\n",
       "      <td>[just, woke, up, having, no, school, is, the, ...</td>\n",
       "      <td>{'just': 1, 'woke': 1, 'up': 1, 'having': 1, '...</td>\n",
       "    </tr>\n",
       "    <tr>\n",
       "      <th>1599996</th>\n",
       "      <td>4</td>\n",
       "      <td>thewdbcom  very cool to hear old walt intervie...</td>\n",
       "      <td>[thewdbcom, very, cool, to, hear, old, walt, i...</td>\n",
       "      <td>{'thewdbcom': 1, 'very': 1, 'cool': 1, 'to': 1...</td>\n",
       "    </tr>\n",
       "    <tr>\n",
       "      <th>1599997</th>\n",
       "      <td>4</td>\n",
       "      <td>are you ready for your mojo makeover ask me fo...</td>\n",
       "      <td>[are, you, ready, for, your, mojo, makeover, a...</td>\n",
       "      <td>{'are': 1, 'you': 1, 'ready': 1, 'for': 2, 'yo...</td>\n",
       "    </tr>\n",
       "    <tr>\n",
       "      <th>1599998</th>\n",
       "      <td>4</td>\n",
       "      <td>happy 38th birthday to my boo of alll time tup...</td>\n",
       "      <td>[happy, 38th, birthday, to, my, boo, of, alll,...</td>\n",
       "      <td>{'happy': 1, '38th': 1, 'birthday': 1, 'to': 1...</td>\n",
       "    </tr>\n",
       "    <tr>\n",
       "      <th>1599999</th>\n",
       "      <td>4</td>\n",
       "      <td>happy charitytuesday thenspcc sparkscharity sp...</td>\n",
       "      <td>[happy, charitytuesday, thenspcc, sparkscharit...</td>\n",
       "      <td>{'happy': 1, 'charitytuesday': 1, 'thenspcc': ...</td>\n",
       "    </tr>\n",
       "  </tbody>\n",
       "</table>\n",
       "<p>1600000 rows × 4 columns</p>\n",
       "</div>"
      ],
      "text/plain": [
       "         Sentiment                                         Tweet_text  \\\n",
       "0                0  switchfoot httptwitpiccom2y1zl  awww thats a b...   \n",
       "1                0  is upset that he cant update his facebook by t...   \n",
       "2                0  kenichan i dived many times for the ball manag...   \n",
       "3                0    my whole body feels itchy and like its on fire    \n",
       "4                0  nationwideclass no its not behaving at all im ...   \n",
       "...            ...                                                ...   \n",
       "1599995          4  just woke up having no school is the best feel...   \n",
       "1599996          4  thewdbcom  very cool to hear old walt intervie...   \n",
       "1599997          4  are you ready for your mojo makeover ask me fo...   \n",
       "1599998          4  happy 38th birthday to my boo of alll time tup...   \n",
       "1599999          4  happy charitytuesday thenspcc sparkscharity sp...   \n",
       "\n",
       "                                               Tweet_words  \\\n",
       "0        [switchfoot, httptwitpiccom2y1zl, awww, thats,...   \n",
       "1        [is, upset, that, he, cant, update, his, faceb...   \n",
       "2        [kenichan, i, dived, many, times, for, the, ba...   \n",
       "3        [my, whole, body, feels, itchy, and, like, its...   \n",
       "4        [nationwideclass, no, its, not, behaving, at, ...   \n",
       "...                                                    ...   \n",
       "1599995  [just, woke, up, having, no, school, is, the, ...   \n",
       "1599996  [thewdbcom, very, cool, to, hear, old, walt, i...   \n",
       "1599997  [are, you, ready, for, your, mojo, makeover, a...   \n",
       "1599998  [happy, 38th, birthday, to, my, boo, of, alll,...   \n",
       "1599999  [happy, charitytuesday, thenspcc, sparkscharit...   \n",
       "\n",
       "                                            Tweets_counted  \n",
       "0        {'switchfoot': 1, 'httptwitpiccom2y1zl': 1, 'a...  \n",
       "1        {'is': 1, 'upset': 1, 'that': 1, 'he': 1, 'can...  \n",
       "2        {'kenichan': 1, 'i': 1, 'dived': 1, 'many': 1,...  \n",
       "3        {'my': 1, 'whole': 1, 'body': 1, 'feels': 1, '...  \n",
       "4        {'nationwideclass': 1, 'no': 1, 'its': 1, 'not...  \n",
       "...                                                    ...  \n",
       "1599995  {'just': 1, 'woke': 1, 'up': 1, 'having': 1, '...  \n",
       "1599996  {'thewdbcom': 1, 'very': 1, 'cool': 1, 'to': 1...  \n",
       "1599997  {'are': 1, 'you': 1, 'ready': 1, 'for': 2, 'yo...  \n",
       "1599998  {'happy': 1, '38th': 1, 'birthday': 1, 'to': 1...  \n",
       "1599999  {'happy': 1, 'charitytuesday': 1, 'thenspcc': ...  \n",
       "\n",
       "[1600000 rows x 4 columns]"
      ]
     },
     "metadata": {},
     "output_type": "display_data"
    }
   ],
   "source": [
    "# Next we need to take all of the words in the tweets and count the occurrences of each word. this is done so we can enumerate the words.\n",
    "# We need to enumerate the words because our model later will need to take integers as its inputs. First we split the tweets into lists with all of the words\n",
    "df['Tweet_words'] = df['Tweet_text'].apply(lambda x: x.split())\n",
    "\n",
    "# Next we need one super string that has all of the tweets as one string. This step can take a very long time. So we will do it by making the counter work over every entry then adding those instead.\n",
    "\n",
    "df['Tweets_counted'] = df['Tweet_words'].apply(lambda x: Counter(x))\n",
    "\n",
    "display(df)\n"
   ]
  },
  {
   "cell_type": "code",
   "execution_count": 8,
   "metadata": {},
   "outputs": [],
   "source": [
    "# This might seem like a slightly odd way to collect the text of all of the words, but this is a faster method compared to using sum over the text in all tweets\n",
    "# It will split the tweets into groups of 1000 and run Counter over them. Aprox 10 minuites\n",
    "collections = {}\n",
    "divisions = 1600\n",
    "for i in range(divisions):\n",
    "    collections[f\"{i}\"] = df['Tweets_counted'].iloc[int(len(df.index)/divisions * i) : int(len(df.index)/divisions * (i+1))].sum()\n"
   ]
  },
  {
   "cell_type": "code",
   "execution_count": null,
   "metadata": {},
   "outputs": [
    {
     "ename": "",
     "evalue": "",
     "output_type": "error",
     "traceback": [
      "\u001b[1;31mRunning cells with 'Python 3.10.8 64-bit (microsoft store)' requires ipykernel package.\n",
      "\u001b[1;31mRun the following command to install 'ipykernel' into the Python environment. \n",
      "\u001b[1;31mCommand: 'c:/Users/sufya/AppData/Local/Microsoft/WindowsApps/python3.10.exe -m pip install ipykernel -U --force-reinstall'"
     ]
    }
   ],
   "source": [
    "# then combining those 1600 collections into one large mega collection of all words and how often they appear. \n",
    "\n",
    "word_count = sum(collections.values(),Counter())"
   ]
  },
  {
   "cell_type": "code",
   "execution_count": null,
   "metadata": {},
   "outputs": [
    {
     "ename": "",
     "evalue": "",
     "output_type": "error",
     "traceback": [
      "\u001b[1;31mRunning cells with 'Python 3.10.8 64-bit (microsoft store)' requires ipykernel package.\n",
      "\u001b[1;31mRun the following command to install 'ipykernel' into the Python environment. \n",
      "\u001b[1;31mCommand: 'c:/Users/sufya/AppData/Local/Microsoft/WindowsApps/python3.10.exe -m pip install ipykernel -U --force-reinstall'"
     ]
    }
   ],
   "source": [
    "# Sorting so the most common words are first\n",
    "\n",
    "sorted_words = word_count.most_common(len(word_count))"
   ]
  },
  {
   "cell_type": "code",
   "execution_count": null,
   "metadata": {},
   "outputs": [
    {
     "ename": "",
     "evalue": "",
     "output_type": "error",
     "traceback": [
      "\u001b[1;31mRunning cells with 'Python 3.10.8 64-bit (microsoft store)' requires ipykernel package.\n",
      "\u001b[1;31mRun the following command to install 'ipykernel' into the Python environment. \n",
      "\u001b[1;31mCommand: 'c:/Users/sufya/AppData/Local/Microsoft/WindowsApps/python3.10.exe -m pip install ipykernel -U --force-reinstall'"
     ]
    }
   ],
   "source": [
    "# Enumerating the words in the list by how common they are.\n",
    "\n",
    "Enumerated_words ={w:i+1 for i,(w,c) in enumerate(sorted_words)}"
   ]
  },
  {
   "cell_type": "code",
   "execution_count": null,
   "metadata": {},
   "outputs": [
    {
     "ename": "",
     "evalue": "",
     "output_type": "error",
     "traceback": [
      "\u001b[1;31mRunning cells with 'Python 3.10.8 64-bit (microsoft store)' requires ipykernel package.\n",
      "\u001b[1;31mRun the following command to install 'ipykernel' into the Python environment. \n",
      "\u001b[1;31mCommand: 'c:/Users/sufya/AppData/Local/Microsoft/WindowsApps/python3.10.exe -m pip install ipykernel -U --force-reinstall'"
     ]
    }
   ],
   "source": [
    "display(Enumerated_words)"
   ]
  },
  {
   "cell_type": "code",
   "execution_count": null,
   "metadata": {},
   "outputs": [
    {
     "ename": "",
     "evalue": "",
     "output_type": "error",
     "traceback": [
      "\u001b[1;31mRunning cells with 'Python 3.10.8 64-bit (microsoft store)' requires ipykernel package.\n",
      "\u001b[1;31mRun the following command to install 'ipykernel' into the Python environment. \n",
      "\u001b[1;31mCommand: 'c:/Users/sufya/AppData/Local/Microsoft/WindowsApps/python3.10.exe -m pip install ipykernel -U --force-reinstall'"
     ]
    }
   ],
   "source": [
    "# Now to encode the reviews themselves, this function will apply 0s if we encounter a word we haven't got, which we shouldn't and the enumeration of the word otherwise.\n",
    "\n",
    "def Encode(tweet):\n",
    "    \n",
    "    encoded_tweet = []\n",
    "    \n",
    "    for word in tweet:\n",
    "        if word not in Enumerated_words:\n",
    "            encoded_tweet.append(0)\n",
    "            \n",
    "        else:\n",
    "            encoded_tweet.append(Enumerated_words[word])\n",
    "    return encoded_tweet\n"
   ]
  },
  {
   "cell_type": "code",
   "execution_count": null,
   "metadata": {},
   "outputs": [
    {
     "ename": "",
     "evalue": "",
     "output_type": "error",
     "traceback": [
      "\u001b[1;31mRunning cells with 'Python 3.10.8 64-bit (microsoft store)' requires ipykernel package.\n",
      "\u001b[1;31mRun the following command to install 'ipykernel' into the Python environment. \n",
      "\u001b[1;31mCommand: 'c:/Users/sufya/AppData/Local/Microsoft/WindowsApps/python3.10.exe -m pip install ipykernel -U --force-reinstall'"
     ]
    }
   ],
   "source": [
    "# Applying the encoding to the tweets in the dataframe\n",
    "\n",
    "df['Encoded_Tweet'] = df['Tweet_words'].apply(lambda x: Encode(x))\n",
    "\n",
    "display(df.head())"
   ]
  },
  {
   "cell_type": "markdown",
   "metadata": {},
   "source": [
    "# Saving because we don't want to loose this progress\n",
    "\n",
    "df.to_csv('../Sentiment_Analysis_Strategy/encoded_tweets.csv')"
   ]
  },
  {
   "cell_type": "markdown",
   "metadata": {},
   "source": [
    "df = pd.read_csv('../Sentiment_Analysis_Strategy/encoded_tweets.csv', header= 0, index_col=0,encoding='latin-1' )"
   ]
  },
  {
   "cell_type": "code",
   "execution_count": null,
   "metadata": {},
   "outputs": [
    {
     "ename": "",
     "evalue": "",
     "output_type": "error",
     "traceback": [
      "\u001b[1;31mRunning cells with 'Python 3.10.8 64-bit (microsoft store)' requires ipykernel package.\n",
      "\u001b[1;31mRun the following command to install 'ipykernel' into the Python environment. \n",
      "\u001b[1;31mCommand: 'c:/Users/sufya/AppData/Local/Microsoft/WindowsApps/python3.10.exe -m pip install ipykernel -U --force-reinstall'"
     ]
    }
   ],
   "source": [
    "display(df)"
   ]
  },
  {
   "cell_type": "code",
   "execution_count": null,
   "metadata": {},
   "outputs": [
    {
     "ename": "",
     "evalue": "",
     "output_type": "error",
     "traceback": [
      "\u001b[1;31mRunning cells with 'Python 3.10.8 64-bit (microsoft store)' requires ipykernel package.\n",
      "\u001b[1;31mRun the following command to install 'ipykernel' into the Python environment. \n",
      "\u001b[1;31mCommand: 'c:/Users/sufya/AppData/Local/Microsoft/WindowsApps/python3.10.exe -m pip install ipykernel -U --force-reinstall'"
     ]
    }
   ],
   "source": [
    "print(type(df['Encoded_Tweet'].iloc[2]))"
   ]
  },
  {
   "cell_type": "code",
   "execution_count": null,
   "metadata": {},
   "outputs": [
    {
     "ename": "",
     "evalue": "",
     "output_type": "error",
     "traceback": [
      "\u001b[1;31mRunning cells with 'Python 3.10.8 64-bit (microsoft store)' requires ipykernel package.\n",
      "\u001b[1;31mRun the following command to install 'ipykernel' into the Python environment. \n",
      "\u001b[1;31mCommand: 'c:/Users/sufya/AppData/Local/Microsoft/WindowsApps/python3.10.exe -m pip install ipykernel -U --force-reinstall'"
     ]
    }
   ],
   "source": [
    "# Now to pad out the encoding with 0s so that each of the encoding is the same length.\n",
    "\n",
    "# We will make the maximum length 280 because that is the maximum number of charachters in a tweet.\n",
    "\n",
    "sequence_length = 280\n",
    "\n",
    "# we will do this with another function that we will broadcast to the pandas dataframe, to avoid looping through \n",
    "\n",
    "def addzeros(Encoded_tweet):\n",
    "    if len(Encoded_tweet)<sequence_length:\n",
    "        tweet = list(np.zeros( sequence_length - len(Encoded_tweet))) + Encoded_tweet\n",
    "    # No tweet should be longer but this in just incase there is some other error such that a longer tweet is outputted. \n",
    "    else:\n",
    "        tweet = Encoded_tweet[:sequence_length]\n",
    "    return tweet\n",
    "\n",
    "df['Encoded_tweet_with_zeros'] = df['Encoded_Tweet'].apply(lambda x : addzeros(x))"
   ]
  },
  {
   "cell_type": "code",
   "execution_count": null,
   "metadata": {},
   "outputs": [
    {
     "ename": "",
     "evalue": "",
     "output_type": "error",
     "traceback": [
      "\u001b[1;31mRunning cells with 'Python 3.10.8 64-bit (microsoft store)' requires ipykernel package.\n",
      "\u001b[1;31mRun the following command to install 'ipykernel' into the Python environment. \n",
      "\u001b[1;31mCommand: 'c:/Users/sufya/AppData/Local/Microsoft/WindowsApps/python3.10.exe -m pip install ipykernel -U --force-reinstall'"
     ]
    }
   ],
   "source": [
    "display(df)\n"
   ]
  }
 ],
 "metadata": {
  "kernelspec": {
   "display_name": "Python 3.9.12 ('base')",
   "language": "python",
   "name": "python3"
  },
  "language_info": {
   "codemirror_mode": {
    "name": "ipython",
    "version": 3
   },
   "file_extension": ".py",
   "mimetype": "text/x-python",
   "name": "python",
   "nbconvert_exporter": "python",
   "pygments_lexer": "ipython3",
   "version": "3.9.12"
  },
  "orig_nbformat": 4,
  "vscode": {
   "interpreter": {
    "hash": "ad2bdc8ecc057115af97d19610ffacc2b4e99fae6737bb82f5d7fb13d2f2c186"
   }
  }
 },
 "nbformat": 4,
 "nbformat_minor": 2
}
