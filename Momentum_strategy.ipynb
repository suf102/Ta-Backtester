{
 "cells": [
  {
   "cell_type": "markdown",
   "metadata": {},
   "source": [
    "In this paper I will be implementing this paper https://papers.ssrn.com/sol3/papers.cfm?abstract_id=2244633. The paper advocates for using an absolute momentum strategy. "
   ]
  },
  {
   "cell_type": "code",
   "execution_count": 64,
   "metadata": {},
   "outputs": [],
   "source": [
    "from backtester import *\n"
   ]
  },
  {
   "cell_type": "markdown",
   "metadata": {},
   "source": [
    "The original paper used MSCI USA index to act as a proxy for midcap assets. I will be using the IShares Morningstar Mid-Cap Value ETF as a stand in for the performance of mid-cap equities. I would prefer to use QUAL however there is less than 10 years worth of data available."
   ]
  },
  {
   "cell_type": "code",
   "execution_count": 65,
   "metadata": {},
   "outputs": [],
   "source": [
    "#Name of the security we are interested in\n",
    "\n",
    "secname = 'IMCV'\n",
    "\n",
    "# How long to make the momentum formation period, the original paper found the best period to be 12 months. \n",
    "\n",
    "formation = 12\n",
    "\n",
    "# Guaranteed rate of return, this will be used as the benchmark for working out the Sharpe Ratio.\n",
    "\n",
    "Guaranteed_rate_of_return = 0.01\n",
    "\n",
    "# Transaction costs, as a percentage of the total transaction size that are charged every time \n",
    "\n",
    "transaction_costs = 0.00"
   ]
  },
  {
   "cell_type": "code",
   "execution_count": 66,
   "metadata": {},
   "outputs": [],
   "source": [
    "close_data = getdata(secname, '5y', 'Close', \"1mo\")"
   ]
  },
  {
   "cell_type": "code",
   "execution_count": 67,
   "metadata": {},
   "outputs": [
    {
     "data": {
      "text/html": [
       "<div>\n",
       "<style scoped>\n",
       "    .dataframe tbody tr th:only-of-type {\n",
       "        vertical-align: middle;\n",
       "    }\n",
       "\n",
       "    .dataframe tbody tr th {\n",
       "        vertical-align: top;\n",
       "    }\n",
       "\n",
       "    .dataframe thead th {\n",
       "        text-align: right;\n",
       "    }\n",
       "</style>\n",
       "<table border=\"1\" class=\"dataframe\">\n",
       "  <thead>\n",
       "    <tr style=\"text-align: right;\">\n",
       "      <th></th>\n",
       "      <th>Close</th>\n",
       "    </tr>\n",
       "    <tr>\n",
       "      <th>Date</th>\n",
       "      <th></th>\n",
       "    </tr>\n",
       "  </thead>\n",
       "  <tbody>\n",
       "    <tr>\n",
       "      <th>2017-12-01</th>\n",
       "      <td>46.978050</td>\n",
       "    </tr>\n",
       "    <tr>\n",
       "      <th>2018-01-01</th>\n",
       "      <td>48.701767</td>\n",
       "    </tr>\n",
       "    <tr>\n",
       "      <th>2018-02-01</th>\n",
       "      <td>46.389545</td>\n",
       "    </tr>\n",
       "    <tr>\n",
       "      <th>2018-03-01</th>\n",
       "      <td>46.176388</td>\n",
       "    </tr>\n",
       "    <tr>\n",
       "      <th>2018-04-01</th>\n",
       "      <td>47.012543</td>\n",
       "    </tr>\n",
       "    <tr>\n",
       "      <th>...</th>\n",
       "      <td>...</td>\n",
       "    </tr>\n",
       "    <tr>\n",
       "      <th>2022-08-01</th>\n",
       "      <td>61.823444</td>\n",
       "    </tr>\n",
       "    <tr>\n",
       "      <th>2022-09-01</th>\n",
       "      <td>55.538837</td>\n",
       "    </tr>\n",
       "    <tr>\n",
       "      <th>2022-10-01</th>\n",
       "      <td>61.639999</td>\n",
       "    </tr>\n",
       "    <tr>\n",
       "      <th>2022-11-01</th>\n",
       "      <td>64.370003</td>\n",
       "    </tr>\n",
       "    <tr>\n",
       "      <th>2022-11-11</th>\n",
       "      <td>64.370003</td>\n",
       "    </tr>\n",
       "  </tbody>\n",
       "</table>\n",
       "<p>61 rows × 1 columns</p>\n",
       "</div>"
      ],
      "text/plain": [
       "                Close\n",
       "Date                 \n",
       "2017-12-01  46.978050\n",
       "2018-01-01  48.701767\n",
       "2018-02-01  46.389545\n",
       "2018-03-01  46.176388\n",
       "2018-04-01  47.012543\n",
       "...               ...\n",
       "2022-08-01  61.823444\n",
       "2022-09-01  55.538837\n",
       "2022-10-01  61.639999\n",
       "2022-11-01  64.370003\n",
       "2022-11-11  64.370003\n",
       "\n",
       "[61 rows x 1 columns]"
      ]
     },
     "metadata": {},
     "output_type": "display_data"
    }
   ],
   "source": [
    "data = pd.DataFrame(close_data).copy().dropna()\n",
    "display(data)\n"
   ]
  },
  {
   "cell_type": "markdown",
   "metadata": {},
   "source": [
    "Rather than selling and holding cash, in the paper the strategy will have us buy treasury bonds, in this case I have used is the 13 week treasury bond, as the paper did."
   ]
  },
  {
   "cell_type": "code",
   "execution_count": 68,
   "metadata": {},
   "outputs": [],
   "source": [
    "tresurybond = getdata('^IRX', '5y', 'Close', \"1mo\")"
   ]
  },
  {
   "cell_type": "code",
   "execution_count": 69,
   "metadata": {},
   "outputs": [
    {
     "data": {
      "text/html": [
       "<div>\n",
       "<style scoped>\n",
       "    .dataframe tbody tr th:only-of-type {\n",
       "        vertical-align: middle;\n",
       "    }\n",
       "\n",
       "    .dataframe tbody tr th {\n",
       "        vertical-align: top;\n",
       "    }\n",
       "\n",
       "    .dataframe thead th {\n",
       "        text-align: right;\n",
       "    }\n",
       "</style>\n",
       "<table border=\"1\" class=\"dataframe\">\n",
       "  <thead>\n",
       "    <tr style=\"text-align: right;\">\n",
       "      <th></th>\n",
       "      <th>TByeild</th>\n",
       "    </tr>\n",
       "    <tr>\n",
       "      <th>Date</th>\n",
       "      <th></th>\n",
       "    </tr>\n",
       "  </thead>\n",
       "  <tbody>\n",
       "    <tr>\n",
       "      <th>2017-12-01</th>\n",
       "      <td>1.355</td>\n",
       "    </tr>\n",
       "    <tr>\n",
       "      <th>2018-01-01</th>\n",
       "      <td>1.430</td>\n",
       "    </tr>\n",
       "    <tr>\n",
       "      <th>2018-02-01</th>\n",
       "      <td>1.618</td>\n",
       "    </tr>\n",
       "    <tr>\n",
       "      <th>2018-03-01</th>\n",
       "      <td>1.670</td>\n",
       "    </tr>\n",
       "    <tr>\n",
       "      <th>2018-04-01</th>\n",
       "      <td>1.763</td>\n",
       "    </tr>\n",
       "    <tr>\n",
       "      <th>...</th>\n",
       "      <td>...</td>\n",
       "    </tr>\n",
       "    <tr>\n",
       "      <th>2022-08-01</th>\n",
       "      <td>2.860</td>\n",
       "    </tr>\n",
       "    <tr>\n",
       "      <th>2022-09-01</th>\n",
       "      <td>3.180</td>\n",
       "    </tr>\n",
       "    <tr>\n",
       "      <th>2022-10-01</th>\n",
       "      <td>3.975</td>\n",
       "    </tr>\n",
       "    <tr>\n",
       "      <th>2022-11-01</th>\n",
       "      <td>4.063</td>\n",
       "    </tr>\n",
       "    <tr>\n",
       "      <th>2022-11-11</th>\n",
       "      <td>4.063</td>\n",
       "    </tr>\n",
       "  </tbody>\n",
       "</table>\n",
       "<p>61 rows × 1 columns</p>\n",
       "</div>"
      ],
      "text/plain": [
       "            TByeild\n",
       "Date               \n",
       "2017-12-01    1.355\n",
       "2018-01-01    1.430\n",
       "2018-02-01    1.618\n",
       "2018-03-01    1.670\n",
       "2018-04-01    1.763\n",
       "...             ...\n",
       "2022-08-01    2.860\n",
       "2022-09-01    3.180\n",
       "2022-10-01    3.975\n",
       "2022-11-01    4.063\n",
       "2022-11-11    4.063\n",
       "\n",
       "[61 rows x 1 columns]"
      ]
     },
     "metadata": {},
     "output_type": "display_data"
    }
   ],
   "source": [
    "treasurydata = pd.DataFrame(tresurybond).copy().dropna().rename(columns={'Close':'TByeild'})\n",
    "display(treasurydata)\n"
   ]
  },
  {
   "cell_type": "markdown",
   "metadata": {},
   "source": [
    "The original paper has positions revaluated monthly which I have also done."
   ]
  },
  {
   "cell_type": "code",
   "execution_count": 70,
   "metadata": {},
   "outputs": [],
   "source": [
    "# Creating the buy and sell signals based on the momentum of the previous 12 months. \n",
    "\n",
    "def momentum(data_levels,tbonds, formation_period = 12, tolerance = 0.00):\n",
    "    \n",
    "    #Combine the two dataframes so we arent going between multiple dataframes\n",
    "    \n",
    "    data = pd.merge(data_levels,tbonds,left_index=True, right_index=True, how='outer')\n",
    "    \n",
    "    # The first thing that we need to do is work out the formation periods for the strategy, the default is 12 months.\n",
    "    # It takes the percentage increase in the price of the asset and takes away the yield on the 13 week bill. If this number is positive then the asset is outperforming the bill, if it is negative then the asset is not.\n",
    "    \n",
    "    data['Signals']  = (((data['Close']-data['Close'].shift(periods= formation))/data['Close'].shift(periods= 12))-data['TByeild']).dropna()\n",
    "\n",
    "    data['Signals'] = data['Signals'].apply(lambda x: +1 if x>=0 else -1)\n",
    "    \n",
    "    # Traditionally we would also look at the month ahead and decide if we should buy or sell, however given that we are backtesting, we would be implementing look ahead bias. \n",
    "    # If the price we due to decrease we would sell thus ensuring that positive returns are always made. Therefore I will only use the previous 12 months as indicative of momentum. \n",
    "    #This is analogous to the papers methodology. \n",
    "    return data"
   ]
  },
  {
   "cell_type": "markdown",
   "metadata": {},
   "source": [
    "The usual backtester that I have used will not be applicable here, given that the paper suggests that instead of holding cash when not taking a positions, it will take a 13 week treasury bill. "
   ]
  },
  {
   "cell_type": "code",
   "execution_count": 71,
   "metadata": {},
   "outputs": [],
   "source": [
    "def backtestert(signals,price,tbill ,  tcost = 0.001,):\n",
    "\n",
    "#Make a quick numpy array to save the money that will be made for possible value that the stock could be sold at and the cash on hand, start with one dollar so its not empty.\n",
    "\n",
    "        pos_val = np.zeros(np.shape(price))\n",
    "        cash    = np.zeros(np.shape(price))\n",
    "        cash[0] = 1\n",
    "        \n",
    "        #loop through each day as though we are going through and actually implementing the strategy as we go\n",
    "\n",
    "        for i,val in enumerate(price):\n",
    "            \n",
    "            #if we are on the last day exit the loop we are done.\n",
    "\n",
    "            if i == len(price)-1:\n",
    "                break\n",
    "            \n",
    "            # The number we are given for the 3 month bill is the annualized yield, however we might only want to hold this bill for a month, so we need to work out the monthly returns on the bill.\n",
    "\n",
    "            if signals[i] == -1:\n",
    "\n",
    "                cash[i+1] = (pos_val[i] * val * (1-tcost)) + cash[i]*(1+(tbill[i]/12)/100)\n",
    "                pos_val[i+1] = 0\n",
    "                \n",
    "            #If the signal that day is to buy, what we will do is take all of the cash that we have, divide it by the cost of the security to work out how many we can buy\n",
    "            #factoring in the cost of the brockerage, we then add it to any stock we held from the pervious day\n",
    "\n",
    "            elif signals[i] == 1:\n",
    "\n",
    "                pos_val[i+1] = (cash[i] / val)*((1-tcost)) + pos_val[i]\n",
    "                cash[i+1] = 0\n",
    "\n",
    "        #then our returns are the amount of cash left each day plus the the price times the amount of the security that we have\n",
    "\n",
    "        returns = [a*b for a,b in zip(pos_val,price)] + cash\n",
    "        \n",
    "        #lastly we turn this into a data frame too\n",
    "        \n",
    "        return pd.DataFrame(returns, index = price.index)"
   ]
  },
  {
   "cell_type": "markdown",
   "metadata": {},
   "source": [
    "Now to run the tests to see if how they perform"
   ]
  },
  {
   "cell_type": "code",
   "execution_count": 72,
   "metadata": {},
   "outputs": [
    {
     "name": "stdout",
     "output_type": "stream",
     "text": [
      "Winrate of ABS Momentum 0.5833333333333334\n",
      "Final return of ABS Momentum 1.261472659261994\n",
      "Sharpe ratio of ABS Momentum 2.6065202571593877\n",
      "Maximum Drawdown of ABS Momentum -0.03531662779245871\n"
     ]
    },
    {
     "data": {
      "image/png": "[encoded data removed]",
      "text/plain": [
       "<Figure size 432x288 with 1 Axes>"
      ]
     },
     "metadata": {
      "needs_background": "light"
     },
     "output_type": "display_data"
    },
    {
     "data": {
      "image/png": "[encoded data removed]",
      "text/plain": [
       "<Figure size 432x288 with 1 Axes>"
      ]
     },
     "metadata": {
      "needs_background": "light"
     },
     "output_type": "display_data"
    }
   ],
   "source": [
    "signals = momentum(data, treasurydata, formation_period= formation ,tolerance= 0 )\n",
    "\n",
    "returns = backtestert(signals['Signals'],signals['Close'],signals['TByeild'],tcost= transaction_costs)\n",
    "returns.plot(xlabel = 'year',ylabel='returns',title= \"Returns using an Absolute Momentum Strategy\")\n",
    "data.plot(xlabel='year',ylabel='price',title='Price of {}'.format(secname))\n",
    "\n",
    "returns.tail(5)\n",
    "\n",
    "print('Winrate of ABS Momentum '+ str(winrate(signals,returns)))\n",
    "print('Final return of ABS Momentum '+ str(returns.iloc[-1][0]))\n",
    "print('Sharpe ratio of ABS Momentum '+ str(Sharperatio(returns,tradingdays=12,rrr=Guaranteed_rate_of_return )[0]))\n",
    "print('Maximum Drawdown of ABS Momentum '+ str(MDD(returns[0])))\n"
   ]
  },
  {
   "cell_type": "markdown",
   "metadata": {},
   "source": [
    "Having backtested the strategy proposed by the authors I have found an abysmal sharpe ratio, and a win rather that is mildly better than that of flipping a coin. Therefore as it stands this strategy does not line up with the results of the original paper, which only included data up till 2014. I would note that the sharpe ration is only calculated over the last year and not over all of the data."
   ]
  }
 ],
 "metadata": {
  "kernelspec": {
   "display_name": "Python 3.9.12 ('base')",
   "language": "python",
   "name": "python3"
  },
  "language_info": {
   "codemirror_mode": {
    "name": "ipython",
    "version": 3
   },
   "file_extension": ".py",
   "mimetype": "text/x-python",
   "name": "python",
   "nbconvert_exporter": "python",
   "pygments_lexer": "ipython3",
   "version": "3.9.12"
  },
  "orig_nbformat": 4,
  "vscode": {
   "interpreter": {
    "hash": "40d3a090f54c6569ab1632332b64b2c03c39dcf918b08424e98f38b5ae0af88f"
   }
  }
 },
 "nbformat": 4,
 "nbformat_minor": 2
}
