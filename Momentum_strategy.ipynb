{
 "cells": [
  {
   "cell_type": "markdown",
   "metadata": {},
   "source": [
    "In this paper I will be implementing this paper https://papers.ssrn.com/sol3/papers.cfm?abstract_id=2244633. The paper advocates for using an absolute momentum strategy. "
   ]
  },
  {
   "cell_type": "code",
   "execution_count": 270,
   "metadata": {},
   "outputs": [],
   "source": [
    "from backtester import *\n"
   ]
  },
  {
   "cell_type": "markdown",
   "metadata": {},
   "source": [
    "The original paper used MSCI monthly data, I will use daily close data for all of the time periods available."
   ]
  },
  {
   "cell_type": "code",
   "execution_count": 271,
   "metadata": {},
   "outputs": [],
   "source": [
    "close_data = getdata('MSCI', '10y', 'Close', \"1mo\")\n"
   ]
  },
  {
   "cell_type": "markdown",
   "metadata": {},
   "source": [
    "The momentum strategy uses a 12 formation period, 12 months is used because it was found in the paper to have the greatest Sharpe ratio."
   ]
  },
  {
   "cell_type": "code",
   "execution_count": 272,
   "metadata": {},
   "outputs": [
    {
     "data": {
      "text/html": [
       "<div>\n",
       "<style scoped>\n",
       "    .dataframe tbody tr th:only-of-type {\n",
       "        vertical-align: middle;\n",
       "    }\n",
       "\n",
       "    .dataframe tbody tr th {\n",
       "        vertical-align: top;\n",
       "    }\n",
       "\n",
       "    .dataframe thead th {\n",
       "        text-align: right;\n",
       "    }\n",
       "</style>\n",
       "<table border=\"1\" class=\"dataframe\">\n",
       "  <thead>\n",
       "    <tr style=\"text-align: right;\">\n",
       "      <th></th>\n",
       "      <th>Close</th>\n",
       "    </tr>\n",
       "    <tr>\n",
       "      <th>Date</th>\n",
       "      <th></th>\n",
       "    </tr>\n",
       "  </thead>\n",
       "  <tbody>\n",
       "    <tr>\n",
       "      <th>2012-11-01</th>\n",
       "      <td>26.553520</td>\n",
       "    </tr>\n",
       "    <tr>\n",
       "      <th>2012-12-01</th>\n",
       "      <td>28.375633</td>\n",
       "    </tr>\n",
       "    <tr>\n",
       "      <th>2013-01-01</th>\n",
       "      <td>30.893646</td>\n",
       "    </tr>\n",
       "    <tr>\n",
       "      <th>2013-02-01</th>\n",
       "      <td>30.335106</td>\n",
       "    </tr>\n",
       "    <tr>\n",
       "      <th>2013-03-01</th>\n",
       "      <td>31.067614</td>\n",
       "    </tr>\n",
       "    <tr>\n",
       "      <th>...</th>\n",
       "      <td>...</td>\n",
       "    </tr>\n",
       "    <tr>\n",
       "      <th>2022-07-01</th>\n",
       "      <td>480.165131</td>\n",
       "    </tr>\n",
       "    <tr>\n",
       "      <th>2022-08-01</th>\n",
       "      <td>448.143494</td>\n",
       "    </tr>\n",
       "    <tr>\n",
       "      <th>2022-09-01</th>\n",
       "      <td>421.790009</td>\n",
       "    </tr>\n",
       "    <tr>\n",
       "      <th>2022-10-01</th>\n",
       "      <td>388.720001</td>\n",
       "    </tr>\n",
       "    <tr>\n",
       "      <th>2022-10-14</th>\n",
       "      <td>388.720001</td>\n",
       "    </tr>\n",
       "  </tbody>\n",
       "</table>\n",
       "<p>121 rows × 1 columns</p>\n",
       "</div>"
      ],
      "text/plain": [
       "                 Close\n",
       "Date                  \n",
       "2012-11-01   26.553520\n",
       "2012-12-01   28.375633\n",
       "2013-01-01   30.893646\n",
       "2013-02-01   30.335106\n",
       "2013-03-01   31.067614\n",
       "...                ...\n",
       "2022-07-01  480.165131\n",
       "2022-08-01  448.143494\n",
       "2022-09-01  421.790009\n",
       "2022-10-01  388.720001\n",
       "2022-10-14  388.720001\n",
       "\n",
       "[121 rows x 1 columns]"
      ]
     },
     "metadata": {},
     "output_type": "display_data"
    }
   ],
   "source": [
    "data = pd.DataFrame(close_data).copy().dropna()\n",
    "display(data)\n"
   ]
  },
  {
   "cell_type": "markdown",
   "metadata": {},
   "source": [
    "Rather than selling and holding cash, in the paper the strategy will have us buy treasury bonds, in this case I have used is the 13 week treasury bond, as the paper did. The figures given by yfinance is the 3 month treasury "
   ]
  },
  {
   "cell_type": "code",
   "execution_count": 273,
   "metadata": {},
   "outputs": [],
   "source": [
    "tresurybond = getdata('^IRX', '10y', 'Close', \"1mo\")"
   ]
  },
  {
   "cell_type": "code",
   "execution_count": 274,
   "metadata": {},
   "outputs": [
    {
     "data": {
      "text/html": [
       "<div>\n",
       "<style scoped>\n",
       "    .dataframe tbody tr th:only-of-type {\n",
       "        vertical-align: middle;\n",
       "    }\n",
       "\n",
       "    .dataframe tbody tr th {\n",
       "        vertical-align: top;\n",
       "    }\n",
       "\n",
       "    .dataframe thead th {\n",
       "        text-align: right;\n",
       "    }\n",
       "</style>\n",
       "<table border=\"1\" class=\"dataframe\">\n",
       "  <thead>\n",
       "    <tr style=\"text-align: right;\">\n",
       "      <th></th>\n",
       "      <th>TByeild</th>\n",
       "    </tr>\n",
       "    <tr>\n",
       "      <th>Date</th>\n",
       "      <th></th>\n",
       "    </tr>\n",
       "  </thead>\n",
       "  <tbody>\n",
       "    <tr>\n",
       "      <th>2012-11-01</th>\n",
       "      <td>0.075</td>\n",
       "    </tr>\n",
       "    <tr>\n",
       "      <th>2012-12-01</th>\n",
       "      <td>0.035</td>\n",
       "    </tr>\n",
       "    <tr>\n",
       "      <th>2013-01-01</th>\n",
       "      <td>0.065</td>\n",
       "    </tr>\n",
       "    <tr>\n",
       "      <th>2013-02-01</th>\n",
       "      <td>0.100</td>\n",
       "    </tr>\n",
       "    <tr>\n",
       "      <th>2013-03-01</th>\n",
       "      <td>0.065</td>\n",
       "    </tr>\n",
       "    <tr>\n",
       "      <th>...</th>\n",
       "      <td>...</td>\n",
       "    </tr>\n",
       "    <tr>\n",
       "      <th>2022-07-01</th>\n",
       "      <td>2.298</td>\n",
       "    </tr>\n",
       "    <tr>\n",
       "      <th>2022-08-01</th>\n",
       "      <td>2.860</td>\n",
       "    </tr>\n",
       "    <tr>\n",
       "      <th>2022-09-01</th>\n",
       "      <td>3.180</td>\n",
       "    </tr>\n",
       "    <tr>\n",
       "      <th>2022-10-01</th>\n",
       "      <td>3.628</td>\n",
       "    </tr>\n",
       "    <tr>\n",
       "      <th>2022-10-17</th>\n",
       "      <td>3.600</td>\n",
       "    </tr>\n",
       "  </tbody>\n",
       "</table>\n",
       "<p>121 rows × 1 columns</p>\n",
       "</div>"
      ],
      "text/plain": [
       "            TByeild\n",
       "Date               \n",
       "2012-11-01    0.075\n",
       "2012-12-01    0.035\n",
       "2013-01-01    0.065\n",
       "2013-02-01    0.100\n",
       "2013-03-01    0.065\n",
       "...             ...\n",
       "2022-07-01    2.298\n",
       "2022-08-01    2.860\n",
       "2022-09-01    3.180\n",
       "2022-10-01    3.628\n",
       "2022-10-17    3.600\n",
       "\n",
       "[121 rows x 1 columns]"
      ]
     },
     "metadata": {},
     "output_type": "display_data"
    }
   ],
   "source": [
    "treasurydata = pd.DataFrame(tresurybond).copy().dropna().rename(columns={'Close':'TByeild'})\n",
    "display(treasurydata)\n"
   ]
  },
  {
   "cell_type": "markdown",
   "metadata": {},
   "source": [
    "The original paper has positions revaluated monthly, however given that I only have a maximum of 10 years worth of data I will do this weekly."
   ]
  },
  {
   "cell_type": "code",
   "execution_count": 275,
   "metadata": {},
   "outputs": [],
   "source": [
    "# Creating the buy and sell signals based on the momentum of the previous 12 months. \n",
    "\n",
    "def momentum(data_levels,tbonds, period = 12, tollerence = 0.00):\n",
    "    \n",
    "    #Combine the two dataframes so we arent going between multiple dataframes\n",
    "    \n",
    "    data = pd.merge(data_levels,tbonds,left_index=True, right_index=True, how='outer')\n",
    "    \n",
    "    # The first thing that we need to do is work out the formation periods for the strategy, the default is 12 months.\n",
    "    # It takes the percentage increase in the price of the asset and takes away the yield on the 13 week bill. If this number is positive then the asset is outperforming the bill, if it is negative then the asset is not.\n",
    "    \n",
    "    data['Signals']  = (((data['Close']-data['Close'].shift(periods= 12))/data['Close'].shift(periods= 12))-data['TByeild']).dropna()\n",
    "\n",
    "    data['Signals'] = data['Signals'].apply(lambda x: +1 if x>=0 else -1)\n",
    "    \n",
    "    # Traditionally we would also look at the month ahead and decide if we should buy or sell, however given that we are backtesting, we would be implementing look ahead bias. \n",
    "    # If the price we due to decrease we would sell thus ensuring that positive returns are always made. Therefore I will only use the previous 12 months as indicative of momentum. \n",
    "    #This is analogous to the papers methodology. \n",
    "    return data"
   ]
  },
  {
   "cell_type": "markdown",
   "metadata": {},
   "source": [
    "The usual backtester that I have used will not be applicable here, given that the paper suggests that instead of holding cash when not holding MSCI, it would suggest buying 13 week treasury bonds. "
   ]
  },
  {
   "cell_type": "code",
   "execution_count": 276,
   "metadata": {},
   "outputs": [],
   "source": [
    "#now that we have the data make a back tester to check if it will work take the two columns the price \n",
    "\n",
    "def backtestert(signals,price,tbill , tcost = 0.001):\n",
    "\n",
    "#Make a quick numpy array to save the money that will be made for possible value that the stock could be sold at and the cash on hand, start with one dollar so its not empty.\n",
    "\n",
    "        pos_val = np.zeros(np.shape(price))\n",
    "        cash    = np.zeros(np.shape(price))\n",
    "        cash[0] = 1\n",
    "        \n",
    "        #loop through each day as though we are going through and actually implementing the strategy as we go\n",
    "\n",
    "        for i,val in enumerate(price):\n",
    "            \n",
    "            #if we are on the last day exit the loop we are done.\n",
    "\n",
    "            if i == len(price)-1:\n",
    "                break\n",
    "            \n",
    "            # The number we are given for the 3 month bill is the annualized yield, however we might only want to hold this bill for a month, so we need to work out the monthly returns on the bill.\n",
    "\n",
    "            if signals[i] == -1:\n",
    "\n",
    "                cash[i+1] = (pos_val[i] * val * (1-tcost)) + cash[i]*(1+(tbill[i]/12)/100)\n",
    "                pos_val[i+1] = 0\n",
    "                \n",
    "            #If the signal that day is to buy, what we will do is take all of the cash that we have, divide it by the cost of the coin to work out how many we can buy\n",
    "            #factoring in the cost of the brockerage, we then add it to any stock we held from the pervious day\n",
    "\n",
    "            elif signals[i] == 1:\n",
    "\n",
    "                pos_val[i+1] = (cash[i] / val)*((1-tcost)) + pos_val[i]\n",
    "                cash[i+1] = 0\n",
    "\n",
    "        #then our returns are the amount of cash left each day plus the the price times the amount of coin that we have\n",
    "\n",
    "        returns = [a*b for a,b in zip(pos_val,price)] + cash\n",
    "        \n",
    "        #lastly we turn this into a data frame too\n",
    "        \n",
    "        return pd.DataFrame(returns, index = price.index)"
   ]
  },
  {
   "cell_type": "markdown",
   "metadata": {},
   "source": [
    "Now to run the tests to see if how they perform"
   ]
  },
  {
   "cell_type": "code",
   "execution_count": 277,
   "metadata": {},
   "outputs": [
    {
     "name": "stdout",
     "output_type": "stream",
     "text": [
      "Winrate of ABSMomentum 0.6071428571428571\n",
      "Final return of ABSMomentum 3.5999999046325684\n",
      "Sharpe ratio of ABSMomentum -2.269742958410171\n"
     ]
    },
    {
     "data": {
      "image/png": "[encoded data removed]",
      "text/plain": [
       "<Figure size 432x288 with 1 Axes>"
      ]
     },
     "metadata": {
      "needs_background": "light"
     },
     "output_type": "display_data"
    },
    {
     "data": {
      "image/png": "[encoded data removed]",
      "text/plain": [
       "<Figure size 432x288 with 1 Axes>"
      ]
     },
     "metadata": {
      "needs_background": "light"
     },
     "output_type": "display_data"
    }
   ],
   "source": [
    "signals = momentum(data, treasurydata,12 , 0 )\n",
    "\n",
    "returns = backtestert(signals['Signals'],signals['Close'],signals['TByeild'],0)\n",
    "returns.plot(xlabel = 'year',ylabel='returns',title= \"Returns using an absolute momentum strategy\")\n",
    "data.plot(xlabel='year',ylabel='price',title='Price of MCSI')\n",
    "\n",
    "print('Winrate of ABSMomentum '+ str(winrate(signals,returns)))\n",
    "print('Final return of ABSMomentum '+ str(signals.iloc[-1][1]))\n",
    "print('Sharpe ratio of ABSMomentum '+ str(Sharperatio(returns,tradingdays=12,rrr=0.1 )[0]))\n"
   ]
  },
  {
   "cell_type": "markdown",
   "metadata": {},
   "source": [
    "Having backtested the strategy proposed by the authors I have found an absolutely abysmal sharpe ratio, and a win rather that is mildly better than that of flipping a coin. Therefore as it stands this strategy does not line up with the results of the original paper, which only included data up till 2014. Therefore the strategy has not continued to work. "
   ]
  }
 ],
 "metadata": {
  "kernelspec": {
   "display_name": "Python 3.9.12 ('base')",
   "language": "python",
   "name": "python3"
  },
  "language_info": {
   "codemirror_mode": {
    "name": "ipython",
    "version": 3
   },
   "file_extension": ".py",
   "mimetype": "text/x-python",
   "name": "python",
   "nbconvert_exporter": "python",
   "pygments_lexer": "ipython3",
   "version": "3.9.12"
  },
  "orig_nbformat": 4,
  "vscode": {
   "interpreter": {
    "hash": "40d3a090f54c6569ab1632332b64b2c03c39dcf918b08424e98f38b5ae0af88f"
   }
  }
 },
 "nbformat": 4,
 "nbformat_minor": 2
}
