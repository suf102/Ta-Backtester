{
 "cells": [
  {
   "cell_type": "markdown",
   "metadata": {},
   "source": [
    "# Momentum strategy backtester. \n",
    "\n",
    "In this notebook I look to implement and backtest the momentum strategy from this paper https://papers.ssrn.com/sol3/papers.cfm?abstract_id=2244633 ."
   ]
  },
  {
   "cell_type": "code",
   "execution_count": 31,
   "metadata": {},
   "outputs": [
    {
     "ename": "ImportError",
     "evalue": "cannot import name 'getdata' from 'backtester' (/Users/sufyansaleem/Ts-backtester/Trading-strategy-backtester/backtester.py)",
     "output_type": "error",
     "traceback": [
      "\u001b[0;31m---------------------------------------------------------------------------\u001b[0m",
      "\u001b[0;31mImportError\u001b[0m                               Traceback (most recent call last)",
      "\u001b[1;32m/Users/sufyansaleem/Ts-backtester/Trading-strategy-backtester/Momentum_strategy.ipynb Cell 2\u001b[0m in \u001b[0;36m<cell line: 1>\u001b[0;34m()\u001b[0m\n\u001b[0;32m----> <a href='vscode-notebook-cell:/Users/sufyansaleem/Ts-backtester/Trading-strategy-backtester/Momentum_strategy.ipynb#W0sZmlsZQ%3D%3D?line=0'>1</a>\u001b[0m \u001b[39mfrom\u001b[39;00m \u001b[39mbacktester\u001b[39;00m \u001b[39mimport\u001b[39;00m getdata\n\u001b[1;32m      <a href='vscode-notebook-cell:/Users/sufyansaleem/Ts-backtester/Trading-strategy-backtester/Momentum_strategy.ipynb#W0sZmlsZQ%3D%3D?line=1'>2</a>\u001b[0m \u001b[39mimport\u001b[39;00m \u001b[39myfinance\u001b[39;00m \u001b[39mas\u001b[39;00m \u001b[39myf\u001b[39;00m\n\u001b[1;32m      <a href='vscode-notebook-cell:/Users/sufyansaleem/Ts-backtester/Trading-strategy-backtester/Momentum_strategy.ipynb#W0sZmlsZQ%3D%3D?line=2'>3</a>\u001b[0m \u001b[39mimport\u001b[39;00m \u001b[39mpandas\u001b[39;00m   \u001b[39mas\u001b[39;00m \u001b[39mpd\u001b[39;00m\n",
      "\u001b[0;31mImportError\u001b[0m: cannot import name 'getdata' from 'backtester' (/Users/sufyansaleem/Ts-backtester/Trading-strategy-backtester/backtester.py)"
     ]
    }
   ],
   "source": [
    "from backtester import getdata\n",
    "import yfinance as yf\n",
    "import pandas   as pd\n",
    "import numpy    as np\n",
    "import random\n",
    "from numba import jit, njit, types, vectorize, prange\n",
    "import plotly.express as plt\n",
    "\n"
   ]
  },
  {
   "cell_type": "markdown",
   "metadata": {},
   "source": []
  },
  {
   "cell_type": "markdown",
   "metadata": {},
   "source": [
    "To implament the strategy from the paper we will "
   ]
  },
  {
   "cell_type": "code",
   "execution_count": null,
   "metadata": {},
   "outputs": [
    {
     "ename": "NameError",
     "evalue": "name 'getdata' is not defined",
     "output_type": "error",
     "traceback": [
      "\u001b[0;31m---------------------------------------------------------------------------\u001b[0m",
      "\u001b[0;31mNameError\u001b[0m                                 Traceback (most recent call last)",
      "\u001b[1;32m/Users/sufyansaleem/Ts-backtester/Trading-strategy-backtester/Momentum_strategy.ipynb Cell 5\u001b[0m in \u001b[0;36m<cell line: 1>\u001b[0;34m()\u001b[0m\n\u001b[0;32m----> <a href='vscode-notebook-cell:/Users/sufyansaleem/Ts-backtester/Trading-strategy-backtester/Momentum_strategy.ipynb#W1sZmlsZQ%3D%3D?line=0'>1</a>\u001b[0m getdata(\u001b[39m'\u001b[39m\u001b[39mBTC-USD\u001b[39m\u001b[39m'\u001b[39m,\u001b[39m'\u001b[39m\u001b[39m30y\u001b[39m\u001b[39m'\u001b[39m,\u001b[39m'\u001b[39m\u001b[39mClose\u001b[39m\u001b[39m'\u001b[39m,\u001b[39m'\u001b[39m\u001b[39m1D\u001b[39m\u001b[39m'\u001b[39m)\n",
      "\u001b[0;31mNameError\u001b[0m: name 'getdata' is not defined"
     ]
    }
   ],
   "source": [
    "getdata('BTC-USD','30y','Close','1D')\n"
   ]
  }
 ],
 "metadata": {
  "kernelspec": {
   "display_name": "Python 3.9.12 ('base')",
   "language": "python",
   "name": "python3"
  },
  "language_info": {
   "codemirror_mode": {
    "name": "ipython",
    "version": 3
   },
   "file_extension": ".py",
   "mimetype": "text/x-python",
   "name": "python",
   "nbconvert_exporter": "python",
   "pygments_lexer": "ipython3",
   "version": "3.9.12"
  },
  "orig_nbformat": 4,
  "vscode": {
   "interpreter": {
    "hash": "40d3a090f54c6569ab1632332b64b2c03c39dcf918b08424e98f38b5ae0af88f"
   }
  }
 },
 "nbformat": 4,
 "nbformat_minor": 2
}
